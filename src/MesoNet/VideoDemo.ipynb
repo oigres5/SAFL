{
 "cells": [
  {
   "cell_type": "code",
   "execution_count": 1,
   "id": "18069a42-c538-4fb5-97e2-c5255c792309",
   "metadata": {},
   "outputs": [],
   "source": [
    "import numpy as np\n",
    "import matplotlib.pyplot as plt\n",
    "from classifiers import *\n",
    "from pipeline import *\n",
    "\n",
    "from tensorflow.keras.preprocessing.image import ImageDataGenerator"
   ]
  },
  {
   "cell_type": "code",
   "execution_count": 2,
   "id": "73f59bf0-4b0e-4d4a-a98b-35a9b4a87e72",
   "metadata": {},
   "outputs": [
    {
     "name": "stderr",
     "output_type": "stream",
     "text": [
      "C:\\Users\\sergi\\AppData\\Local\\Programs\\Python\\Python310\\lib\\site-packages\\keras\\optimizers\\optimizer_v2\\adam.py:110: UserWarning: The `lr` argument is deprecated, use `learning_rate` instead.\n",
      "  super(Adam, self).__init__(name, **kwargs)\n"
     ]
    },
    {
     "name": "stdout",
     "output_type": "stream",
     "text": [
      "Dealing with video  AV0001.mp4\n",
      "Face extraction warning :  0 - found face in full frame [(367, 1287, 1058, 597)]\n",
      "Face extraction report of not_found : 1\n",
      "Face extraction report of no_face : 0\n",
      "Predicting  AV0001.mp4\n",
      "1/1 [==============================] - 0s 253ms/step\n",
      "Dealing with video  AV0002.mp4\n",
      "Face extraction warning :  0 - found face in full frame [(291, 1364, 981, 673)]\n",
      "Face extraction report of not_found : 1\n",
      "Face extraction report of no_face : 0\n",
      "Predicting  AV0002.mp4\n",
      "1/1 [==============================] - 0s 135ms/step\n",
      "Dealing with video  AV0003.mp4\n",
      "Face extraction warning :  0 - found face in full frame [(370, 1264, 945, 689)]\n",
      "Face extraction report of not_found : 1\n",
      "Face extraction report of no_face : 0\n",
      "Predicting  AV0003.mp4\n",
      "1/1 [==============================] - 0s 140ms/step\n",
      "Dealing with video  AV0004.mp4\n",
      "Face extraction warning :  0 - found face in full frame [(306, 1200, 881, 625)]\n",
      "Face extraction report of not_found : 1\n",
      "Face extraction report of no_face : 0\n",
      "Predicting  AV0004.mp4\n",
      "1/1 [==============================] - 0s 135ms/step\n",
      "Dealing with video  C0001D.mp4\n",
      "Face extraction warning :  0 - found face in full frame [(120, 529, 280, 369)]\n",
      "Face extraction report of not_found : 1\n",
      "Face extraction report of no_face : 0\n",
      "Predicting  C0001D.mp4\n",
      "1/1 [==============================] - 0s 136ms/step\n",
      "Dealing with video  C0002D.mp4\n",
      "Face extraction warning :  0 - found face in full frame [(83, 565, 194, 454)]\n",
      "Face extraction report of not_found : 1\n",
      "Face extraction report of no_face : 0\n",
      "Predicting  C0002D.mp4\n",
      "1/1 [==============================] - 0s 136ms/step\n",
      "Dealing with video  C0003D.mp4\n",
      "Face extraction warning :  0 - found face in full frame [(169, 477, 234, 412)]\n",
      "Face extraction report of not_found : 1\n",
      "Face extraction report of no_face : 0\n",
      "Predicting  C0003D.mp4\n",
      "1/1 [==============================] - 0s 143ms/step\n",
      "Dealing with video  DFL0001.mp4\n",
      "Face extraction warning :  0 - found face in full frame [(144, 850, 337, 657)]\n",
      "Face extraction warning :  108 - found face in full frame [(101, 657, 294, 465)]\n",
      "Face extraction warning :  540 - found face in full frame [(101, 764, 294, 572)]\n",
      "Face extraction report of not_found : 3\n",
      "Face extraction report of no_face : 0\n",
      "Predicting  DFL0001.mp4\n",
      "1/1 [==============================] - 0s 142ms/step\n",
      "Dealing with video  DFL0002.mp4\n",
      "Face extraction warning :  0 - found face in full frame [(120, 547, 280, 387)]\n",
      "Face extraction report of not_found : 1\n",
      "Face extraction report of no_face : 0\n",
      "Predicting  DFL0002.mp4\n",
      "1/1 [==============================] - 0s 137ms/step\n",
      "Dealing with video  DFL0003.mp4\n",
      "Face extraction warning :  0 - found face in full frame [(83, 565, 194, 454)]\n",
      "Face extraction report of not_found : 1\n",
      "Face extraction report of no_face : 0\n",
      "Predicting  DFL0003.mp4\n",
      "1/1 [==============================] - 0s 132ms/step\n",
      "Dealing with video  DFL0004.mp4\n",
      "Face extraction warning :  0 - found face in full frame [(169, 477, 234, 412)]\n",
      "Face extraction report of not_found : 1\n",
      "Face extraction report of no_face : 0\n",
      "Predicting  DFL0004.mp4\n",
      "1/1 [==============================] - 0s 139ms/step\n",
      "`AV0001` video class prediction : 1.0\n",
      "`AV0002` video class prediction : 1.0\n",
      "`AV0003` video class prediction : 1.0\n",
      "`AV0004` video class prediction : 0.20689655172413793\n",
      "`C0001D` video class prediction : 0.7931034482758621\n",
      "`C0002D` video class prediction : 1.0\n",
      "`C0003D` video class prediction : 0.9\n",
      "`DFL0001` video class prediction : 0.7333333333333333\n",
      "`DFL0002` video class prediction : 0.3103448275862069\n",
      "`DFL0003` video class prediction : 0.6896551724137931\n",
      "`DFL0004` video class prediction : 0.7666666666666667\n"
     ]
    }
   ],
   "source": [
    "# 1 - Load the model and its pretrained weights\n",
    "classifier = Meso4()\n",
    "# 4 - Prediction for a video dataset\n",
    "\n",
    "#classifier.load('weights/Meso4_F2F.h5')\n",
    "classifier.load('weights/Meso4_DF.h5')\n",
    "\n",
    "#classifier = MesoInception4()\n",
    "#classifier.load('weights/MesoInception_DF.h5')\n",
    "#classifier.load('weights/MesoInception_F2F.h5')\n",
    "\n",
    "predictions = compute_accuracy(classifier, 'test_videos')\n",
    "for video_name in predictions:\n",
    "    print('`{}` video class prediction :'.format(video_name), predictions[video_name][0])"
   ]
  },
  {
   "cell_type": "code",
   "execution_count": null,
   "id": "e93ee978-bd0c-4a0c-81b8-5e399b4c1d78",
   "metadata": {},
   "outputs": [],
   "source": []
  }
 ],
 "metadata": {
  "kernelspec": {
   "display_name": "Python 3 (ipykernel)",
   "language": "python",
   "name": "python3"
  },
  "language_info": {
   "codemirror_mode": {
    "name": "ipython",
    "version": 3
   },
   "file_extension": ".py",
   "mimetype": "text/x-python",
   "name": "python",
   "nbconvert_exporter": "python",
   "pygments_lexer": "ipython3",
   "version": "3.10.6"
  }
 },
 "nbformat": 4,
 "nbformat_minor": 5
}
